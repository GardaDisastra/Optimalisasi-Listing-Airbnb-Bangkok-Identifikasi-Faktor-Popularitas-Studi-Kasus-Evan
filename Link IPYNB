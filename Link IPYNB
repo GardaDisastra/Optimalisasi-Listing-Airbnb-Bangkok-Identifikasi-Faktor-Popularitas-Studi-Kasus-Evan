# Link IPYNB Capstone
Link IPYNB : https://drive.google.com/drive/folders/1Z_8xNp__l-3nkpYnbyw0BhH2BcNeNAY1?usp=sharing

di dalam drive karena lebih dari 25mb(tidak bisa upload di github tulisannya)
